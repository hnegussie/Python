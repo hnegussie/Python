{
  "cells": [
    {
      "cell_type": "markdown",
      "metadata": {
        "id": "view-in-github",
        "colab_type": "text"
      },
      "source": [
        "<a href=\"https://colab.research.google.com/github/hnegussie/Python/blob/main/Week_one.ipynb\" target=\"_parent\"><img src=\"https://colab.research.google.com/assets/colab-badge.svg\" alt=\"Open In Colab\"/></a>"
      ]
    },
    {
      "cell_type": "code",
      "execution_count": null,
      "metadata": {
        "colab": {
          "base_uri": "https://localhost:8080/"
        },
        "id": "yhZqFw_KxDCw",
        "outputId": "e55be074-0942-4a0c-cfc3-4f9295ef4f28"
      },
      "outputs": [
        {
          "name": "stdout",
          "output_type": "stream",
          "text": [
            "{\"id\":\"6008fc96c6043c62735183ae5fcf77d4\",\"text\":\"Ingrown toenails are hereditary.  \",\"source\":\"djtech.net\",\"source_url\":\"http://www.djtech.net/humor/useless_facts.htm\",\"language\":\"en\",\"permalink\":\"https://uselessfacts.jsph.pl/api/v2/facts/6008fc96c6043c62735183ae5fcf77d4\"}\n",
            "\n"
          ]
        }
      ],
      "source": [
        "import requests\n",
        "type(requests)\n",
        "response=requests.get('https://uselessfacts.jsph.pl/random.json?language=en')\n",
        "print(response.text)\n"
      ]
    },
    {
      "cell_type": "code",
      "execution_count": null,
      "metadata": {
        "colab": {
          "base_uri": "https://localhost:8080/"
        },
        "id": "joFf-3_KxuNu",
        "outputId": "90d7aade-fc86-4326-e804-4415ee09d32f"
      },
      "outputs": [
        {
          "name": "stdout",
          "output_type": "stream",
          "text": [
            "Chewing gum while peeling onions will keep you from crying.\n"
          ]
        }
      ],
      "source": [
        "query_params={'language':'en'\n",
        "\n",
        "}\n",
        "response=requests.get('https://uselessfacts.jsph.pl/random.json?language=en',params=query_params)\n",
        "print(response.json().get('text'))"
      ]
    },
    {
      "cell_type": "markdown",
      "metadata": {
        "id": "jido2YiBJUXZ"
      },
      "source": [
        "# Data Structures\n",
        "The important ones are lists , dictionaries and sets\n"
      ]
    },
    {
      "cell_type": "code",
      "execution_count": null,
      "metadata": {
        "colab": {
          "base_uri": "https://localhost:8080/",
          "height": 36
        },
        "id": "XsYe-usSJS74",
        "outputId": "7cd882bd-c1c1-495b-c1b0-ca9a08610398"
      },
      "outputs": [
        {
          "data": {
            "application/vnd.google.colaboratory.intrinsic+json": {
              "type": "string"
            },
            "text/plain": [
              "'Ian'"
            ]
          },
          "execution_count": 41,
          "metadata": {},
          "output_type": "execute_result"
        }
      ],
      "source": [
        "data =['Kana','Ian','Henock','Tewedaj']\n",
        "\n",
        "data.append('Fanta')\n",
        "data[1]\n"
      ]
    },
    {
      "cell_type": "code",
      "execution_count": null,
      "metadata": {
        "colab": {
          "base_uri": "https://localhost:8080/"
        },
        "id": "4XMzH1XzMgxq",
        "outputId": "afeffec0-6554-4816-dfea-9f5852af767e"
      },
      "outputs": [
        {
          "data": {
            "text/plain": [
              "{'Henock', 'Ian', 'Kana', 'Tewedaj'}"
            ]
          },
          "execution_count": 40,
          "metadata": {},
          "output_type": "execute_result"
        }
      ],
      "source": [
        "data_set={'Kana','Ian','Henock','Tewedaj','Kana'}\n",
        "data_set"
      ]
    },
    {
      "cell_type": "code",
      "execution_count": null,
      "metadata": {
        "colab": {
          "base_uri": "https://localhost:8080/"
        },
        "id": "IhZmZEl8NHlq",
        "outputId": "d25198a1-c33e-49c0-91f1-790915860c56"
      },
      "outputs": [
        {
          "name": "stdout",
          "output_type": "stream",
          "text": [
            "9\n"
          ]
        }
      ],
      "source": [
        "data_dictionary={'Kana':9,'Ian':2,'Henock':42,'Tewedaj':35,'Kana':9}\n",
        "data_dictionary\n",
        "print(data_dictionary.get('Kana'))"
      ]
    },
    {
      "cell_type": "markdown",
      "metadata": {
        "id": "TsNVe7XrOwd8"
      },
      "source": [
        "# Control Flow"
      ]
    },
    {
      "cell_type": "markdown",
      "metadata": {
        "id": "1O42dF7LJGQr"
      },
      "source": []
    },
    {
      "cell_type": "code",
      "execution_count": null,
      "metadata": {
        "colab": {
          "base_uri": "https://localhost:8080/"
        },
        "id": "YCCfkv4xjLzt",
        "outputId": "4501c8f0-e465-4532-b129-652a8f4a4cc9"
      },
      "outputs": [
        {
          "name": "stdout",
          "output_type": "stream",
          "text": [
            "0 a 1 b 2 c 3 d 4 e "
          ]
        }
      ],
      "source": [
        "data = ['a','b','c','d','e']\n",
        "i=0\n",
        "for i,letter in enumerate(data):\n",
        "  print(i,letter,end=\" \")\n",
        "\n"
      ]
    },
    {
      "cell_type": "code",
      "execution_count": null,
      "metadata": {
        "colab": {
          "base_uri": "https://localhost:8080/"
        },
        "id": "Xef5ck4BmEWL",
        "outputId": "dea9c410-5ac5-40d3-f2e6-0dcfce0f2c23"
      },
      "outputs": [
        {
          "name": "stdout",
          "output_type": "stream",
          "text": [
            "a b c d e special\n",
            "stop\n"
          ]
        }
      ],
      "source": [
        "data = ['a','b','c','d','e']\n",
        "i=0\n",
        "while i<len(data):\n",
        "  print (data[i],end=\" \")\n",
        "  i += 1\n",
        "\n",
        "while True:\n",
        "  x=input()\n",
        "  if x== \"stop\":\n",
        "    break  \n",
        "  elif x== \"special\":\n",
        "    continue   "
      ]
    },
    {
      "cell_type": "code",
      "execution_count": null,
      "metadata": {
        "colab": {
          "background_save": true,
          "base_uri": "https://localhost:8080/"
        },
        "id": "5i5jUiEBohKT",
        "outputId": "6b5c644f-db8f-4d41-99e4-ed622d4548d0"
      },
      "outputs": [
        {
          "name": "stdout",
          "output_type": "stream",
          "text": [
            "39\n"
          ]
        }
      ],
      "source": [
        "from random import randint\n",
        "correct=randint(0,100)\n",
        "print(correct)\n",
        "guess=int()\n",
        "while True :\n",
        "  guess=input()\n",
        "  print(\"You Win\")\n",
        "  break"
      ]
    },
    {
      "cell_type": "code",
      "source": [
        "jupyter notebook\n"
      ],
      "metadata": {
        "colab": {
          "base_uri": "https://localhost:8080/",
          "height": 130
        },
        "id": "QmtPQ9Lq9kw9",
        "outputId": "ad589ecc-e06c-4155-89c6-9933f40ca291"
      },
      "execution_count": 1,
      "outputs": [
        {
          "output_type": "error",
          "ename": "SyntaxError",
          "evalue": "ignored",
          "traceback": [
            "\u001b[0;36m  File \u001b[0;32m\"<ipython-input-1-ba6c65dc902f>\"\u001b[0;36m, line \u001b[0;32m1\u001b[0m\n\u001b[0;31m    jupyter notebook\u001b[0m\n\u001b[0m            ^\u001b[0m\n\u001b[0;31mSyntaxError\u001b[0m\u001b[0;31m:\u001b[0m invalid syntax\n"
          ]
        }
      ]
    }
  ],
  "metadata": {
    "colab": {
      "provenance": [],
      "authorship_tag": "ABX9TyOFUZkB+12IrTMGzA+1oiI6",
      "include_colab_link": true
    },
    "kernelspec": {
      "display_name": "Python 3",
      "name": "python3"
    },
    "language_info": {
      "name": "python"
    }
  },
  "nbformat": 4,
  "nbformat_minor": 0
}